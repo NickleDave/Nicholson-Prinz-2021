{
 "cells": [
  {
   "cell_type": "code",
   "execution_count": 1,
   "metadata": {},
   "outputs": [],
   "source": [
    "from collections import defaultdict\n",
    "\n",
    "import pandas as pd\n",
    "import pyprojroot\n",
    "import searchnets\n",
    "import seaborn as sns\n",
    "import torch\n",
    "import torch.nn\n",
    "from tqdm import tqdm"
   ]
  },
  {
   "cell_type": "code",
   "execution_count": 2,
   "metadata": {},
   "outputs": [],
   "source": [
    "def dist_mat(x):\n",
    "    \"\"\"distance matrix\"\"\"    \n",
    "    if len(x.size()) == 4:\n",
    "        x = x.view(x.size()[0], -1)\n",
    "\n",
    "    dist = torch.norm(x[:, None] - x, dim=2)\n",
    "    return dist"
   ]
  },
  {
   "cell_type": "code",
   "execution_count": 3,
   "metadata": {},
   "outputs": [],
   "source": [
    "def kernel_alignment_loss(k_x, k_y, k_l):\n",
    "    \"\"\"computes kernel alignment loss (Crisitiani et al. 2002)\"\"\"\n",
    "    beta = 1.0\n",
    "\n",
    "    L = torch.norm(k_l)\n",
    "    Y = torch.norm(k_y) ** beta\n",
    "    X = torch.norm(k_x) ** (1-beta)\n",
    "\n",
    "    LY = torch.trace(torch.matmul(k_l, k_y)) ** beta\n",
    "    LX = torch.trace(torch.matmul(k_l, k_x)) ** (1 - beta)\n",
    "\n",
    "    return 2 * torch.log2((LY * LX) / (L * Y * X))"
   ]
  },
  {
   "cell_type": "code",
   "execution_count": 4,
   "metadata": {},
   "outputs": [],
   "source": [
    "def kernel_mat(x, k_x, k_y, sigma=None, idx=None):\n",
    "    d = dist_mat(x)\n",
    "    if sigma is None:\n",
    "        sigma_vals = torch.linspace(0.3, 10 * d.mean(), 100).cuda()\n",
    "        L = []\n",
    "        for sig in sigma_vals:\n",
    "            k_l = torch.exp(-d ** 2 / (sig ** 2)) / d.size(0)\n",
    "            L.append(\n",
    "                kernel_alignment_loss(k_x, k_y, k_l)\n",
    "            )\n",
    "\n",
    "#         if epoch == 0:\n",
    "#             self.sigmas[idx+1, epoch] = sigma_vals[L.index(max(L))]\n",
    "#         else:\n",
    "#             self.sigmas[idx+1, epoch] = 0.9*self.sigmas[idx+1, epoch-1] + 0.1*sigma_vals[L.index(max(L))]\n",
    "#\n",
    "#         sigma = self.sigmas[idx+1, epoch]\n",
    "        sigma = sigma_vals[L.index(max(L))]\n",
    "    return torch.exp(-d ** 2 / (sigma ** 2))"
   ]
  },
  {
   "cell_type": "code",
   "execution_count": 5,
   "metadata": {},
   "outputs": [],
   "source": [
    "def entropy(*tensors):\n",
    "    \"\"\"computes matrix-based Renyi's \\alpha-order entropy,\n",
    "    in the limit when \\alpha --> 1, \n",
    "    i.e., matrix–based von Neumann entropy\n",
    "\n",
    "    equation (3) in Wickstrøm et al. 2019\"\"\"\n",
    "    for idx, val in enumerate(tensors):  # iterate along batch dimension\n",
    "        if idx == 0:\n",
    "            k = val.clone()\n",
    "        else:\n",
    "            k *= val\n",
    "\n",
    "    k /= k.trace()\n",
    "    eigv = torch.symeig(k)[0].abs()\n",
    "\n",
    "    return -(eigv * (eigv.log2())).sum()"
   ]
  },
  {
   "cell_type": "code",
   "execution_count": 6,
   "metadata": {},
   "outputs": [],
   "source": [
    "ACTIVATIONS = {}\n",
    "\n",
    "def get_activation(op_name):\n",
    "    def hook(model, input, output):\n",
    "        ACTIVATIONS[op_name] = output.detach()\n",
    "    return hook"
   ]
  },
  {
   "cell_type": "code",
   "execution_count": 7,
   "metadata": {},
   "outputs": [],
   "source": [
    "DEVICE = 'cuda'"
   ]
  },
  {
   "cell_type": "code",
   "execution_count": 8,
   "metadata": {},
   "outputs": [],
   "source": [
    "NUM_CLASSES = 2  # target absent (0) or present (1)"
   ]
  },
  {
   "cell_type": "code",
   "execution_count": 9,
   "metadata": {},
   "outputs": [],
   "source": [
    "ckpts_root = pyprojroot.here() / 'results' / 'searchstims' / 'checkpoints'\n",
    "expt_root = ckpts_root / '3stims'\n",
    "init_root = expt_root / 'alexnet_initialize_lr_1e-03_three_stims_38400samples_balanced'\n",
    "tsfr_root = expt_root / 'alexnet_transfer_lr_1e-03_no_finetune_three_stims_38400samples_balanced'\n",
    "\n",
    "models = {}\n",
    "for train_type, ckpt_root in zip(\n",
    "    ('initialize', 'transfer'),\n",
    "    (init_root, tsfr_root),\n",
    "):\n",
    "    net_root = ckpt_root / 'trained_200_epochs/net_number_1'\n",
    "    ckpt_path = net_root / 'alexnet_trained_200_epochs_number_1-best-val-acc-ckpt.pt'\n",
    "    model = searchnets.nets.alexnet.build(\n",
    "        pretrained=False, \n",
    "        progress=False, \n",
    "        num_classes=NUM_CLASSES\n",
    "    )\n",
    "    model.to(DEVICE);\n",
    "    \n",
    "    checkpoint = torch.load(ckpt_path)\n",
    "    model = torch.nn.DataParallel(model)\n",
    "    model.load_state_dict(checkpoint['model'])\n",
    "    \n",
    "    models[train_type] = model"
   ]
  },
  {
   "cell_type": "code",
   "execution_count": 14,
   "metadata": {},
   "outputs": [
    {
     "data": {
      "text/plain": [
       "ReLU(inplace=True)"
      ]
     },
     "execution_count": 14,
     "metadata": {},
     "output_type": "execute_result"
    }
   ],
   "source": [
    "model.module.classifier[-5]"
   ]
  },
  {
   "cell_type": "code",
   "execution_count": 11,
   "metadata": {},
   "outputs": [],
   "source": [
    "for train_type, model in models.items():\n",
    "    # we want to collect activations from the last linear transform\n",
    "    model.module.classifier[-2].register_forward_hook(get_activation(op_name=f'{train_type}-last-fc'))"
   ]
  },
  {
   "cell_type": "code",
   "execution_count": 12,
   "metadata": {},
   "outputs": [],
   "source": [
    "DATASET_TYPE = 'searchstims'\n",
    "LOSS_FUNC = 'CE'\n",
    "\n",
    "transform, target_transform = searchnets.transforms.util.get_transforms(\n",
    "    dataset_type=DATASET_TYPE,\n",
    "    loss_func=LOSS_FUNC, \n",
    "    pad_size=500  # no effect since we're using searchstims not VOC\n",
    ")\n",
    "\n",
    "CSV_FILE = pyprojroot.here() / '../visual_search_stimuli/alexnet_multiple_stims/alexnet_three_stims_38400samples_balanced_split.csv'\n",
    "\n",
    "testset = searchnets.datasets.Searchstims(\n",
    "    csv_file=CSV_FILE,\n",
    "    split='test',\n",
    "    transform=transform,\n",
    "    target_transform=target_transform\n",
    ")\n",
    "\n",
    "BATCH_SIZE = 100\n",
    "SHUFFLE = True  # because we want to randomly sample set size, target present / absent, etc.\n",
    "NUM_WORKERS = 4\n",
    "test_loader = torch.utils.data.DataLoader(\n",
    "    testset,\n",
    "    batch_size=BATCH_SIZE,\n",
    "    shuffle=SHUFFLE,\n",
    "    num_workers=NUM_WORKERS,\n",
    "    pin_memory=True\n",
    ")"
   ]
  },
  {
   "cell_type": "code",
   "execution_count": 19,
   "metadata": {
    "tags": []
   },
   "outputs": [
    {
     "name": "stderr",
     "output_type": "stream",
     "text": [
      "100%|██████████████████████████████████████████████████████████████████████████████████████████████████| 64/64 [00:09<00:00,  7.02it/s]\n"
     ]
    }
   ],
   "source": [
    "for train_type, model in models.items():\n",
    "    model.eval()\n",
    "\n",
    "S_by_train_type = defaultdict(list)\n",
    "records = []\n",
    "\n",
    "pbar = tqdm(test_loader)\n",
    "N_BATCHES = 100\n",
    "for i, batch in enumerate(pbar):\n",
    "    if i == N_BATCHES:\n",
    "        break\n",
    "\n",
    "    x, y_true, set_size = batch['img'].to(DEVICE), batch['target'].to(DEVICE), batch['set_size']\n",
    "\n",
    "    y_onehot = torch.nn.functional.one_hot(y_true).float()\n",
    "    k_x = kernel_mat(x, [], [], sigma=torch.tensor(8.0))\n",
    "    k_y = kernel_mat(y_onehot, [], [], sigma=torch.tensor(0.1))\n",
    "\n",
    "    activations_by_train_type = {}\n",
    "    for train_type, model in models.items():\n",
    "        with torch.no_grad():\n",
    "            output = model(x)\n",
    "            activations_by_train_type[train_type] = ACTIVATIONS[f'{train_type}-last-fc']\n",
    "\n",
    "    for train_type, activation in activations_by_train_type.items():\n",
    "            k = kernel_mat(activation.flatten(start_dim=1), k_x, k_y)\n",
    "            s = entropy(k).cpu().numpy().item()\n",
    "            S_by_train_type[train_type].append(s)\n",
    "    # below, _ because torch.max returns (values, indices)\n",
    "#     _, y_pred = torch.max(output.data, 1)    \n",
    "#     correct = y_pred == y_true\n",
    "#     acc = correct.sum().item() / y_true.size(0)\n",
    "\n",
    "#     for y_true_el, set_size, y_pred_el, activation_el in zip(\n",
    "#         y_true.cpu().numpy(),\n",
    "#         set_size.cpu().numpy(),\n",
    "#         y_pred.cpu().numpy(),\n",
    "#         activation.cpu().numpy()\n",
    "#     ):\n",
    "#         records.append(\n",
    "#             {\n",
    "#                 'y_true': y_true_el,\n",
    "#                 'set_size': set_size,\n",
    "#                 'y_pred': y_pred_el,\n",
    "#                 'activation': activation\n",
    "#             }\n",
    "#         )"
   ]
  },
  {
   "cell_type": "code",
   "execution_count": 20,
   "metadata": {},
   "outputs": [],
   "source": [
    "records = []\n",
    "for train_type, s_vals in S_by_train_type.items():\n",
    "    for batch_num, s_val in enumerate(s_vals):\n",
    "        records.append(\n",
    "            {\n",
    "                'train_type': train_type,\n",
    "                'batch': batch_num,\n",
    "                'entropy': s_val,\n",
    "            }\n",
    "        )\n",
    "data = pd.DataFrame.from_records(records)"
   ]
  },
  {
   "cell_type": "code",
   "execution_count": 21,
   "metadata": {},
   "outputs": [
    {
     "data": {
      "text/plain": [
       "<seaborn.axisgrid.FacetGrid at 0x7f98898d8610>"
      ]
     },
     "execution_count": 21,
     "metadata": {},
     "output_type": "execute_result"
    },
    {
     "data": {
      "image/png": "[encoded data removed]",
      "text/plain": [
       "<Figure size 438x360 with 1 Axes>"
      ]
     },
     "metadata": {
      "needs_background": "light"
     },
     "output_type": "display_data"
    }
   ],
   "source": [
    "sns.displot(data, x='entropy', hue='train_type')"
   ]
  }
 ],
 "metadata": {
  "kernelspec": {
   "display_name": "Python 3 (ipykernel)",
   "language": "python",
   "name": "python3"
  },
  "language_info": {
   "codemirror_mode": {
    "name": "ipython",
    "version": 3
   },
   "file_extension": ".py",
   "mimetype": "text/x-python",
   "name": "python",
   "nbconvert_exporter": "python",
   "pygments_lexer": "ipython3",
   "version": "3.7.4"
  }
 },
 "nbformat": 4,
 "nbformat_minor": 4
}
