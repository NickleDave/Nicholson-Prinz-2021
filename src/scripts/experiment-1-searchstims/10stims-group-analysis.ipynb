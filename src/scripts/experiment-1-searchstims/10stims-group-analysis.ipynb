{
 "cells": [
  {
   "cell_type": "code",
   "execution_count": 1,
   "metadata": {},
   "outputs": [],
   "source": [
    "from pathlib import Path\n",
    "\n",
    "from matplotlib import rcParams\n",
    "rcParams['font.family'] = 'sans-serif'\n",
    "rcParams['font.sans-serif'] = ['Arial']\n",
    "import matplotlib as mpl\n",
    "import matplotlib.pyplot as plt\n",
    "import numpy as np\n",
    "import pandas as pd\n",
    "import pyprojroot\n",
    "import seaborn as sns\n",
    "\n",
    "import searchnets"
   ]
  },
  {
   "cell_type": "code",
   "execution_count": 2,
   "metadata": {},
   "outputs": [],
   "source": [
    "def cm_to_inches(cm):\n",
    "    return cm / 2.54"
   ]
  },
  {
   "cell_type": "code",
   "execution_count": 3,
   "metadata": {},
   "outputs": [],
   "source": [
    "mpl.style.use(['seaborn-darkgrid', 'seaborn-paper'])"
   ]
  },
  {
   "cell_type": "markdown",
   "metadata": {},
   "source": [
    "paths"
   ]
  },
  {
   "cell_type": "code",
   "execution_count": 4,
   "metadata": {},
   "outputs": [],
   "source": [
    "SOURCE_DATA_ROOT = pyprojroot.here('results/searchstims/source_data/10stims')"
   ]
  },
  {
   "cell_type": "markdown",
   "metadata": {},
   "source": [
    "constants"
   ]
  },
  {
   "cell_type": "code",
   "execution_count": 5,
   "metadata": {},
   "outputs": [],
   "source": [
    "LEARNING_RATE = 1e-3\n",
    "\n",
    "NET_NAMES = [\n",
    "    'alexnet',\n",
    "    'VGG16',\n",
    "    'CORnet_Z',\n",
    "    'CORnet_S',\n",
    "]\n",
    "\n",
    "METHODS = [\n",
    "    'initialize',\n",
    "    'transfer'\n",
    "]\n",
    "\n",
    "MODES = [\n",
    "    'classify',\n",
    "]"
   ]
  },
  {
   "cell_type": "markdown",
   "metadata": {},
   "source": [
    "## load source data"
   ]
  },
  {
   "cell_type": "markdown",
   "metadata": {},
   "source": [
    "Get just the transfer learning results, then group by network, stimulus, and set size, and compute the mean accuracy for each set size."
   ]
  },
  {
   "cell_type": "code",
   "execution_count": 6,
   "metadata": {},
   "outputs": [],
   "source": [
    "df_all = pd.read_csv(\n",
    "    SOURCE_DATA_ROOT.joinpath('all.csv')\n",
    ")\n",
    "\n",
    "stim_acc_diff_df = pd.read_csv(\n",
    "    SOURCE_DATA_ROOT.joinpath('stim_acc_diff.csv')\n",
    ")\n",
    "\n",
    "net_acc_diff_df = pd.read_csv(\n",
    "    SOURCE_DATA_ROOT.joinpath('net_acc_diff.csv')\n",
    ")\n"
   ]
  },
  {
   "cell_type": "markdown",
   "metadata": {},
   "source": [
    "columns will be stimuli, in increasing order of accuracy drop across models"
   ]
  },
  {
   "cell_type": "code",
   "execution_count": 7,
   "metadata": {},
   "outputs": [
    {
     "name": "stdout",
     "output_type": "stream",
     "text": [
      "['Bx_v_RxRo', 'YT_v_BTBL', 'Bx_v_RxBo', 'RVvGV', 'RVvRHGV', 'PWVvPWHCV', 'PWVvCV', 'TvT', 'YT_v_BTYL', '2_v_5']\n"
     ]
    }
   ],
   "source": [
    "FIG_COLUMNS = stim_acc_diff_df['stimulus'].values.tolist()\n",
    "print(FIG_COLUMNS)"
   ]
  },
  {
   "cell_type": "markdown",
   "metadata": {},
   "source": [
    "rows will be nets, in decreasing order of accuracy drops across stimuli"
   ]
  },
  {
   "cell_type": "code",
   "execution_count": 8,
   "metadata": {},
   "outputs": [
    {
     "name": "stdout",
     "output_type": "stream",
     "text": [
      "['CORnet_S', 'CORnet_Z', 'VGG16', 'alexnet']\n"
     ]
    }
   ],
   "source": [
    "FIG_ROWS = net_acc_diff_df['net_name'].values.tolist()\n",
    "print(FIG_ROWS)"
   ]
  },
  {
   "cell_type": "markdown",
   "metadata": {},
   "source": [
    "## plot figure"
   ]
  },
  {
   "cell_type": "code",
   "execution_count": 24,
   "metadata": {},
   "outputs": [
    {
     "data": {
      "text/plain": [
       "['CORnet_S', 'CORnet_Z', 'VGG16', 'alexnet']"
      ]
     },
     "execution_count": 24,
     "metadata": {},
     "output_type": "execute_result"
    }
   ],
   "source": [
    "FIG_ROWS"
   ]
  },
  {
   "cell_type": "code",
   "execution_count": 24,
   "metadata": {},
   "outputs": [
    {
     "data": {
      "text/html": [
       "<div>\n",
       "<style scoped>\n",
       "    .dataframe tbody tr th:only-of-type {\n",
       "        vertical-align: middle;\n",
       "    }\n",
       "\n",
       "    .dataframe tbody tr th {\n",
       "        vertical-align: top;\n",
       "    }\n",
       "\n",
       "    .dataframe thead th {\n",
       "        text-align: right;\n",
       "    }\n",
       "</style>\n",
       "<table border=\"1\" class=\"dataframe\">\n",
       "  <thead>\n",
       "    <tr style=\"text-align: right;\">\n",
       "      <th></th>\n",
       "      <th>Bx_v_RxRo</th>\n",
       "      <th>YT_v_BTBL</th>\n",
       "      <th>Bx_v_RxBo</th>\n",
       "      <th>2_v_5</th>\n",
       "      <th>RVvGV</th>\n",
       "      <th>YT_v_BTYL</th>\n",
       "      <th>RVvRHGV</th>\n",
       "      <th>TvT</th>\n",
       "      <th>PWVvPWHCV</th>\n",
       "      <th>PWVvCV</th>\n",
       "    </tr>\n",
       "    <tr>\n",
       "      <th>net_name</th>\n",
       "      <th></th>\n",
       "      <th></th>\n",
       "      <th></th>\n",
       "      <th></th>\n",
       "      <th></th>\n",
       "      <th></th>\n",
       "      <th></th>\n",
       "      <th></th>\n",
       "      <th></th>\n",
       "      <th></th>\n",
       "    </tr>\n",
       "  </thead>\n",
       "  <tbody>\n",
       "    <tr>\n",
       "      <td>CORnet_S</td>\n",
       "      <td>0.140625</td>\n",
       "      <td>0.157812</td>\n",
       "      <td>0.186719</td>\n",
       "      <td>0.105469</td>\n",
       "      <td>0.183594</td>\n",
       "      <td>0.225781</td>\n",
       "      <td>0.255469</td>\n",
       "      <td>0.251563</td>\n",
       "      <td>0.301563</td>\n",
       "      <td>0.361719</td>\n",
       "    </tr>\n",
       "    <tr>\n",
       "      <td>CORnet_Z</td>\n",
       "      <td>0.140625</td>\n",
       "      <td>0.157812</td>\n",
       "      <td>0.186719</td>\n",
       "      <td>0.105469</td>\n",
       "      <td>0.183594</td>\n",
       "      <td>0.225781</td>\n",
       "      <td>0.255469</td>\n",
       "      <td>0.251563</td>\n",
       "      <td>0.301563</td>\n",
       "      <td>0.361719</td>\n",
       "    </tr>\n",
       "    <tr>\n",
       "      <td>VGG16</td>\n",
       "      <td>0.084375</td>\n",
       "      <td>0.066406</td>\n",
       "      <td>0.076563</td>\n",
       "      <td>0.250000</td>\n",
       "      <td>0.242969</td>\n",
       "      <td>0.133594</td>\n",
       "      <td>0.258594</td>\n",
       "      <td>0.205469</td>\n",
       "      <td>0.315625</td>\n",
       "      <td>0.325000</td>\n",
       "    </tr>\n",
       "    <tr>\n",
       "      <td>alexnet</td>\n",
       "      <td>0.017187</td>\n",
       "      <td>0.035156</td>\n",
       "      <td>0.092187</td>\n",
       "      <td>0.110938</td>\n",
       "      <td>0.042187</td>\n",
       "      <td>0.264062</td>\n",
       "      <td>0.233594</td>\n",
       "      <td>0.337500</td>\n",
       "      <td>0.362500</td>\n",
       "      <td>0.371875</td>\n",
       "    </tr>\n",
       "  </tbody>\n",
       "</table>\n",
       "</div>"
      ],
      "text/plain": [
       "          Bx_v_RxRo  YT_v_BTBL  Bx_v_RxBo     2_v_5     RVvGV  YT_v_BTYL  \\\n",
       "net_name                                                                   \n",
       "CORnet_S   0.140625   0.157812   0.186719  0.105469  0.183594   0.225781   \n",
       "CORnet_Z   0.140625   0.157812   0.186719  0.105469  0.183594   0.225781   \n",
       "VGG16      0.084375   0.066406   0.076563  0.250000  0.242969   0.133594   \n",
       "alexnet    0.017187   0.035156   0.092187  0.110938  0.042187   0.264062   \n",
       "\n",
       "           RVvRHGV       TvT  PWVvPWHCV    PWVvCV  \n",
       "net_name                                           \n",
       "CORnet_S  0.255469  0.251563   0.301563  0.361719  \n",
       "CORnet_Z  0.255469  0.251563   0.301563  0.361719  \n",
       "VGG16     0.258594  0.205469   0.315625  0.325000  \n",
       "alexnet   0.233594  0.337500   0.362500  0.371875  "
      ]
     },
     "execution_count": 24,
     "metadata": {},
     "output_type": "execute_result"
    }
   ],
   "source": [
    "df_acc_diff_pivot = df_acc_diff.pivot_table(index='net_name', columns='stimulus')\n",
    "df_acc_diff_pivot.columns = df_acc_diff_pivot.columns.get_level_values(1)\n",
    "df_acc_diff_stim_cols = pd.DataFrame(df_acc_diff_pivot.to_records())\n",
    "df_acc_diff_stim_cols = df_acc_diff_stim_cols.set_index('net_name')\n",
    "df_acc_diff_stim_cols.reindex(FIG_ROWS)\n",
    "df_acc_diff_stim_cols = df_acc_diff_stim_cols[FIG_COLUMNS]\n",
    "df_acc_diff_stim_cols"
   ]
  },
  {
   "cell_type": "code",
   "execution_count": 25,
   "metadata": {},
   "outputs": [],
   "source": [
    "acc_diff_mat = df_acc_diff_stim_cols.to_numpy()\n",
    "acc_diff_stim_mean = acc_diff_mat.mean(0)\n",
    "acc_diff_net_mean = acc_diff_mat.mean(1)"
   ]
  },
  {
   "cell_type": "code",
   "execution_count": 26,
   "metadata": {},
   "outputs": [
    {
     "data": {
      "image/png": "[encoded data removed]",
      "text/plain": [
       "<Figure size 1080x360 with 3 Axes>"
      ]
     },
     "metadata": {},
     "output_type": "display_data"
    }
   ],
   "source": [
    "from matplotlib.gridspec import GridSpec\n",
    "\n",
    "fig = plt.figure(figsize=(15, 5))\n",
    "\n",
    "gs = GridSpec(4,4)\n",
    "\n",
    "ax_joint = fig.add_subplot(gs[1:4,0:3])\n",
    "ax_marg_x = fig.add_subplot(gs[0,0:3])\n",
    "ax_marg_y = fig.add_subplot(gs[1:4,3])\n",
    "\n",
    "\n",
    "ax_joint.imshow(acc_diff_mat, cmap=plt.get_cmap('BuGn'))\n",
    "ax_joint.grid(False)\n",
    "ax_joint.set_xticks(np.arange(acc_diff_mat.shape[1]))\n",
    "ax_joint.set_yticks(np.arange(acc_diff_mat.shape[0]))\n",
    "ax_joint.set_xticklabels(df_acc_diff_stim_cols.columns)\n",
    "ax_joint.set_yticklabels(df_acc_diff_stim_cols.index.values)\n",
    "for i in range(acc_diff_mat.shape[0]):\n",
    "    for j in range(acc_diff_mat.shape[1]):\n",
    "        text = ax_joint.text(j, i, f'{acc_diff_mat[i, j]:0.3f}', \n",
    "                             ha=\"center\", va=\"center\", color=\"w\")\n",
    "\n",
    "ax_marg_x.bar(np.arange(len(acc_diff_stim_mean)), acc_diff_stim_mean)\n",
    "ax_marg_y.barh(np.arange(len(acc_diff_net_mean)), acc_diff_net_mean)\n",
    "\n",
    "# Turn off tick labels on marginals\n",
    "plt.setp(ax_marg_x.get_xticklabels(), visible=False)\n",
    "plt.setp(ax_marg_y.get_yticklabels(), visible=False)\n",
    "\n",
    "# Set labels on joint\n",
    "ax_joint.set_xlabel('stimulus')\n",
    "ax_joint.set_ylabel('network')\n",
    "\n",
    "# Set labels on marginals\n",
    "ax_marg_y.set_xlabel('set size effect\\nacross stimuli')\n",
    "ax_marg_x.set_ylabel('set size effect\\nacross networks')\n",
    "plt.show()"
   ]
  },
  {
   "cell_type": "code",
   "execution_count": 19,
   "metadata": {},
   "outputs": [
    {
     "data": {
      "text/html": [
       "<div>\n",
       "<style scoped>\n",
       "    .dataframe tbody tr th:only-of-type {\n",
       "        vertical-align: middle;\n",
       "    }\n",
       "\n",
       "    .dataframe tbody tr th {\n",
       "        vertical-align: top;\n",
       "    }\n",
       "\n",
       "    .dataframe thead th {\n",
       "        text-align: right;\n",
       "    }\n",
       "</style>\n",
       "<table border=\"1\" class=\"dataframe\">\n",
       "  <thead>\n",
       "    <tr style=\"text-align: right;\">\n",
       "      <th></th>\n",
       "      <th>Unnamed: 0</th>\n",
       "      <th>net_name</th>\n",
       "      <th>method</th>\n",
       "      <th>mode</th>\n",
       "      <th>learning_rate</th>\n",
       "      <th>net_number</th>\n",
       "      <th>stimulus</th>\n",
       "      <th>set_size</th>\n",
       "      <th>target_condition</th>\n",
       "      <th>accuracy</th>\n",
       "      <th>hit_rate</th>\n",
       "      <th>false_alarm_rate</th>\n",
       "      <th>d_prime</th>\n",
       "    </tr>\n",
       "  </thead>\n",
       "  <tbody>\n",
       "    <tr>\n",
       "      <td>0</td>\n",
       "      <td>0</td>\n",
       "      <td>alexnet</td>\n",
       "      <td>initialize</td>\n",
       "      <td>classify</td>\n",
       "      <td>0.001</td>\n",
       "      <td>1</td>\n",
       "      <td>RVvGV</td>\n",
       "      <td>1</td>\n",
       "      <td>present</td>\n",
       "      <td>1.0</td>\n",
       "      <td>NaN</td>\n",
       "      <td>NaN</td>\n",
       "      <td>NaN</td>\n",
       "    </tr>\n",
       "    <tr>\n",
       "      <td>1</td>\n",
       "      <td>1</td>\n",
       "      <td>alexnet</td>\n",
       "      <td>initialize</td>\n",
       "      <td>classify</td>\n",
       "      <td>0.001</td>\n",
       "      <td>1</td>\n",
       "      <td>RVvGV</td>\n",
       "      <td>2</td>\n",
       "      <td>present</td>\n",
       "      <td>1.0</td>\n",
       "      <td>NaN</td>\n",
       "      <td>NaN</td>\n",
       "      <td>NaN</td>\n",
       "    </tr>\n",
       "    <tr>\n",
       "      <td>2</td>\n",
       "      <td>2</td>\n",
       "      <td>alexnet</td>\n",
       "      <td>initialize</td>\n",
       "      <td>classify</td>\n",
       "      <td>0.001</td>\n",
       "      <td>1</td>\n",
       "      <td>RVvGV</td>\n",
       "      <td>4</td>\n",
       "      <td>present</td>\n",
       "      <td>1.0</td>\n",
       "      <td>NaN</td>\n",
       "      <td>NaN</td>\n",
       "      <td>NaN</td>\n",
       "    </tr>\n",
       "    <tr>\n",
       "      <td>3</td>\n",
       "      <td>3</td>\n",
       "      <td>alexnet</td>\n",
       "      <td>initialize</td>\n",
       "      <td>classify</td>\n",
       "      <td>0.001</td>\n",
       "      <td>1</td>\n",
       "      <td>RVvGV</td>\n",
       "      <td>8</td>\n",
       "      <td>present</td>\n",
       "      <td>1.0</td>\n",
       "      <td>NaN</td>\n",
       "      <td>NaN</td>\n",
       "      <td>NaN</td>\n",
       "    </tr>\n",
       "    <tr>\n",
       "      <td>4</td>\n",
       "      <td>4</td>\n",
       "      <td>alexnet</td>\n",
       "      <td>initialize</td>\n",
       "      <td>classify</td>\n",
       "      <td>0.001</td>\n",
       "      <td>1</td>\n",
       "      <td>RVvGV</td>\n",
       "      <td>1</td>\n",
       "      <td>absent</td>\n",
       "      <td>1.0</td>\n",
       "      <td>NaN</td>\n",
       "      <td>NaN</td>\n",
       "      <td>NaN</td>\n",
       "    </tr>\n",
       "  </tbody>\n",
       "</table>\n",
       "</div>"
      ],
      "text/plain": [
       "   Unnamed: 0 net_name      method      mode  learning_rate  net_number  \\\n",
       "0           0  alexnet  initialize  classify          0.001           1   \n",
       "1           1  alexnet  initialize  classify          0.001           1   \n",
       "2           2  alexnet  initialize  classify          0.001           1   \n",
       "3           3  alexnet  initialize  classify          0.001           1   \n",
       "4           4  alexnet  initialize  classify          0.001           1   \n",
       "\n",
       "  stimulus  set_size target_condition  accuracy  hit_rate  false_alarm_rate  \\\n",
       "0    RVvGV         1          present       1.0       NaN               NaN   \n",
       "1    RVvGV         2          present       1.0       NaN               NaN   \n",
       "2    RVvGV         4          present       1.0       NaN               NaN   \n",
       "3    RVvGV         8          present       1.0       NaN               NaN   \n",
       "4    RVvGV         1           absent       1.0       NaN               NaN   \n",
       "\n",
       "   d_prime  \n",
       "0      NaN  \n",
       "1      NaN  \n",
       "2      NaN  \n",
       "3      NaN  \n",
       "4      NaN  "
      ]
     },
     "execution_count": 19,
     "metadata": {},
     "output_type": "execute_result"
    }
   ],
   "source": [
    "df[(df['net_name'] == net_name)\n",
    "    & (df['method'] == method)\n",
    "    % (df['mode'] == mode)\n",
    "    & (df['stimulus'] == stimulus)]"
   ]
  }
 ],
 "metadata": {
  "kernelspec": {
   "display_name": "Python 3",
   "language": "python",
   "name": "python3"
  },
  "language_info": {
   "codemirror_mode": {
    "name": "ipython",
    "version": 3
   },
   "file_extension": ".py",
   "mimetype": "text/x-python",
   "name": "python",
   "nbconvert_exporter": "python",
   "pygments_lexer": "ipython3",
   "version": "3.6.9"
  }
 },
 "nbformat": 4,
 "nbformat_minor": 4
}
