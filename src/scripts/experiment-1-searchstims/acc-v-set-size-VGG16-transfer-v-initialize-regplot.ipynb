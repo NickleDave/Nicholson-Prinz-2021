{
 "cells": [
  {
   "cell_type": "code",
   "execution_count": 1,
   "metadata": {},
   "outputs": [],
   "source": [
    "from pathlib import Path\n",
    "\n",
    "from matplotlib import rcParams\n",
    "import matplotlib as mpl\n",
    "import matplotlib.pyplot as plt\n",
    "import numpy as np\n",
    "import pandas as pd\n",
    "import pyprojroot\n",
    "import seaborn as sns\n",
    "\n",
    "import searchnets"
   ]
  },
  {
   "cell_type": "code",
   "execution_count": 2,
   "metadata": {},
   "outputs": [],
   "source": [
    "def cm_to_inches(cm):\n",
    "    return cm / 2.54"
   ]
  },
  {
   "cell_type": "code",
   "execution_count": 3,
   "metadata": {},
   "outputs": [],
   "source": [
    "rcParams['font.family'] = 'sans-serif'\n",
    "rcParams['font.sans-serif'] = ['Arial']\n",
    "\n",
    "# mpl.style.use(['seaborn-darkgrid', 'seaborn-paper'])"
   ]
  },
  {
   "cell_type": "markdown",
   "metadata": {},
   "source": [
    "paths"
   ]
  },
  {
   "cell_type": "code",
   "execution_count": 4,
   "metadata": {},
   "outputs": [],
   "source": [
    "SOURCE_DATA_ROOT = pyprojroot.here('results/searchstims/source_data/')\n",
    "\n",
    "FIGURES_ROOT = pyprojroot.here('docs/paper/figures/experiment-1')"
   ]
  },
  {
   "cell_type": "markdown",
   "metadata": {},
   "source": [
    "constants"
   ]
  },
  {
   "cell_type": "code",
   "execution_count": 5,
   "metadata": {},
   "outputs": [],
   "source": [
    "LEARNING_RATE = 1e-3\n",
    "\n",
    "NET_NAMES = [\n",
    "    'VGG16'\n",
    "]\n",
    "\n",
    "STIM_TYPES = [\n",
    "    'RVvGV',\n",
    "    'RVvRHGV',\n",
    "    '2_v_5',\n",
    "]\n",
    "\n",
    "SET_SIZES = [\n",
    "    1,\n",
    "    2,\n",
    "    4,\n",
    "    8,\n",
    "]"
   ]
  },
  {
   "cell_type": "markdown",
   "metadata": {},
   "source": [
    "## load / tidy source data"
   ]
  },
  {
   "cell_type": "code",
   "execution_count": 6,
   "metadata": {},
   "outputs": [],
   "source": [
    "df_all = []    \n",
    "\n",
    "TODO = (\n",
    "    ('3stims', 'transfer' , 'Train on natural images, adapt to visual search task'),\n",
    "    ('3stims_CelebASpoof', 'transfer', 'Train on faces, adapt to visual search task'),\n",
    "    ('3stims_nih_chest_xray', 'transfer', 'Train on x-ray images, adapt to visual search task'),\n",
    "    ('3stims', 'initialize', 'Train only on visual search task'),\n",
    "    ('10stims', 'initialize', 'Train only on visual search task (10 stimulus types)'),\n",
    "    ('3stims_big_set_size', 'initialize', 'Train only on visual search task (7 set sizes)'),\n",
    ")\n",
    "\n",
    "for source_data_dir, method, label in TODO:\n",
    "    df = pd.read_csv(SOURCE_DATA_ROOT / source_data_dir / 'all.csv')\n",
    "\n",
    "    df = df[\n",
    "        (df.net_name.isin(NET_NAMES)) &\n",
    "        (df.method == method) &\n",
    "        (df.stimulus.isin(STIM_TYPES)) *\n",
    "        (df.set_size.isin(SET_SIZES))\n",
    "    ]\n",
    "    df['label'] = label\n",
    "    df_all.append(df)\n",
    "\n",
    "df_all = pd.concat(df_all)\n",
    "\n",
    "df_all = df_all[df_all.target_condition == 'both']\n",
    "\n",
    "# map set sizes to consecutive integers\n",
    "set_size_uniq = df_all.set_size.unique()\n",
    "set_size_map = dict(zip(set_size_uniq, range(len(set_size_uniq))))\n",
    "df_all['set_size_int'] = df_all.set_size.map(set_size_map)\n",
    "df_all.accuracy = df_all.accuracy * 100"
   ]
  },
  {
   "cell_type": "code",
   "execution_count": 18,
   "metadata": {},
   "outputs": [
    {
     "data": {
      "text/plain": [
       "(0.00392156862745098, 0.45098039215686275, 0.6980392156862745)"
      ]
     },
     "execution_count": 18,
     "metadata": {},
     "output_type": "execute_result"
    }
   ],
   "source": []
  },
  {
   "cell_type": "code",
   "execution_count": null,
   "metadata": {},
   "outputs": [],
   "source": [
    "sns.set_context('paper')\n",
    "sns.set_style('darkgrid')\n",
    "sns.set_palette('colorblind')\n",
    "\n",
    "# FIGSIZE = tuple(cm_to_inches(size) for size in (7.5, 10))\n",
    "FIGSIZE = (7.5, 9)\n",
    "DPI = 300\n",
    "\n",
    "FIG_ROWS = df_all.label.unique()\n",
    "FIG_COLUMNS = df_all.stimulus.unique()\n",
    "\n",
    "n_rows = len(FIG_ROWS)\n",
    "n_cols = len(FIG_COLUMNS)\n",
    "fig, ax_arr = plt.subplots(n_rows, n_cols, sharey=True, figsize=FIGSIZE, dpi=DPI)\n",
    "fig.subplots_adjust(hspace=0.35)\n",
    "\n",
    "row_axes = []\n",
    "for row in range(n_rows):\n",
    "    row_ax = fig.add_subplot(n_rows, 1, row + 1)\n",
    "    row_ax.set_xticks([])\n",
    "    row_ax.set_yticks([])\n",
    "    row_ax.tick_params(labelcolor='none', top=False, bottom=False, left=False, right=False)\n",
    "    row_ax.grid(False)\n",
    "    row_ax.patch.set_facecolor('none')\n",
    "    row_axes.append(row_ax)\n",
    "\n",
    "LABELSIZE = 6\n",
    "XTICKPAD = 2\n",
    "YTICKPAD = 1\n",
    "\n",
    "TEXTBOX_PROPS = dict(boxstyle='round', facecolor='white', alpha=0.85)\n",
    "\n",
    "for ax_ in ax_arr.ravel():\n",
    "    ax_.xaxis.set_tick_params(pad=XTICKPAD, labelsize=LABELSIZE)\n",
    "    ax_.yaxis.set_tick_params(pad=YTICKPAD, labelsize=LABELSIZE)\n",
    "    \n",
    "\n",
    "STIM_FONTSIZE = 4\n",
    "\n",
    "add_legend = False\n",
    "\n",
    "NET_NAME = 'VGG16'\n",
    "\n",
    "line_color = sns.color_palette()[0]\n",
    "\n",
    "for row, label in enumerate(FIG_ROWS):\n",
    "    df_this_label = df_all[df_all['label'] == label]\n",
    "    method = df_this_label.method.unique()[0]\n",
    "\n",
    "    for col, stim_name in enumerate(FIG_COLUMNS):\n",
    "\n",
    "        df_this_label_this_stim = df_this_label[df_this_label.stimulus == stim_name]\n",
    "\n",
    "        ax = ax_arr[row, col]\n",
    "        ax.set_axisbelow(True)  # so grid is behind\n",
    "\n",
    "        data = df_this_label[\n",
    "            (df_this_label.net_name == NET_NAME) &\n",
    "            (df_this_label.stimulus == stim_name)\n",
    "        ]\n",
    "        \n",
    "        sns.regplot(\n",
    "            data=data,\n",
    "            x='set_size_int',\n",
    "            y='accuracy',\n",
    "            x_ci='sd',\n",
    "            ax=ax,\n",
    "            scatter=True,\n",
    "            scatter_kws={'s': 2}\n",
    "        )\n",
    "\n",
    "        for net_number in data.net_number.unique():\n",
    "            data_net = data[data.net_number == net_number]\n",
    "            sns.regplot(\n",
    "                data=data_net,\n",
    "                x='set_size_int',\n",
    "                y='accuracy',\n",
    "                ci=None,\n",
    "                scatter=False,\n",
    "                ax=ax,\n",
    "                line_kws={'linewidth': 0.75, 'linestyle': 'dashed', 'color': line_color}\n",
    "            )\n",
    "\n",
    "        ax.set_xticks(data.set_size_int.unique())\n",
    "        ax.set_xticklabels(data.set_size.unique())\n",
    "        ax.set_xlim([-0.5, 3.5])\n",
    "        ax.set_ylabel('')\n",
    "        ax.set_xlabel('')\n",
    "\n",
    "        if row == 0:\n",
    "            title = stim_name.replace('_',' ')\n",
    "            ax.set_title(title, \n",
    "                         fontsize=STIM_FONTSIZE,\n",
    "                         pad=5)  # pad so we can put image over title without it showing\n",
    "        if col == 0:\n",
    "            row_axes[row].text(0.01, 0.1, label, fontsize=8, weight='bold', bbox=TEXTBOX_PROPS)\n",
    "\n",
    "# add a big axis, hide frame\n",
    "big_ax = fig.add_subplot(111, frameon=False)\n",
    "# hide tick and tick label of the big axis\n",
    "big_ax.set_xticks([])\n",
    "big_ax.set_yticks([])\n",
    "big_ax.tick_params(labelcolor='none', top=False, bottom=False, left=False, right=False)\n",
    "big_ax.grid(False)\n",
    "\n",
    "LEGEND_FONTSIZE = 5\n",
    "\n",
    "if '3stims' in str(FIGURES_ROOT):\n",
    "    BBOX_TO_ANCHOR = (1.55, 0.85)\n",
    "elif '10stims' in str(FIGURES_ROOT):\n",
    "    BBOX_TO_ANCHOR = (0.005, 0.55, 0.4, .075)\n",
    "\n",
    "\n",
    "big_ax.set_xlabel(\"Set size\", labelpad=20);\n",
    "big_ax.set_ylabel('Accuracy (%)', labelpad=20);\n",
    "\n",
    "for ext in ('svg', 'png'):\n",
    "    fig_path = FIGURES_ROOT.joinpath(\n",
    "        f'acc-v-set-size-VGG16-transfer-v-initialize.{ext}'\n",
    "    )\n",
    "    plt.savefig(fig_path, bbox_inches=\"tight\")"
   ]
  }
 ],
 "metadata": {
  "kernelspec": {
   "display_name": "Python 3 (ipykernel)",
   "language": "python",
   "name": "python3"
  },
  "language_info": {
   "codemirror_mode": {
    "name": "ipython",
    "version": 3
   },
   "file_extension": ".py",
   "mimetype": "text/x-python",
   "name": "python",
   "nbconvert_exporter": "python",
   "pygments_lexer": "ipython3",
   "version": "3.7.1"
  }
 },
 "nbformat": 4,
 "nbformat_minor": 4
}
