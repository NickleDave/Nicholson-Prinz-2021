{
 "cells": [
  {
   "cell_type": "code",
   "execution_count": 1,
   "metadata": {},
   "outputs": [],
   "source": [
    "from pathlib import Path\n",
    "\n",
    "from matplotlib import rcParams\n",
    "rcParams['font.family'] = 'sans-serif'\n",
    "rcParams['font.sans-serif'] = ['Arial']\n",
    "import matplotlib as mpl\n",
    "import matplotlib.pyplot as plt\n",
    "import numpy as np\n",
    "import pandas as pd\n",
    "import pyprojroot\n",
    "import seaborn as sns\n",
    "\n",
    "import searchnets"
   ]
  },
  {
   "cell_type": "code",
   "execution_count": 2,
   "metadata": {},
   "outputs": [],
   "source": [
    "def cm_to_inches(cm):\n",
    "    return cm / 2.54"
   ]
  },
  {
   "cell_type": "code",
   "execution_count": 3,
   "metadata": {},
   "outputs": [],
   "source": [
    "mpl.style.use(['seaborn-darkgrid', 'seaborn-paper'])"
   ]
  },
  {
   "cell_type": "markdown",
   "metadata": {},
   "source": [
    "paths"
   ]
  },
  {
   "cell_type": "code",
   "execution_count": 4,
   "metadata": {},
   "outputs": [],
   "source": [
    "SOURCE_DATA_ROOT = pyprojroot.here('results/searchstims/source_data/3stims_white_background')\n",
    "\n",
    "FIGURES_ROOT = pyprojroot.here('docs/paper/figures/experiment-1/searchstims-3stims-white-background')"
   ]
  },
  {
   "cell_type": "markdown",
   "metadata": {},
   "source": [
    "constants"
   ]
  },
  {
   "cell_type": "code",
   "execution_count": 5,
   "metadata": {},
   "outputs": [],
   "source": [
    "LEARNING_RATE = 1e-3\n",
    "\n",
    "NET_NAMES = [\n",
    "    'alexnet',\n",
    "]\n",
    "\n",
    "METHODS = [\n",
    "    'initialize',\n",
    "    'transfer'\n",
    "]\n",
    "\n",
    "MODES = [\n",
    "    'classify',\n",
    "]"
   ]
  },
  {
   "cell_type": "markdown",
   "metadata": {},
   "source": [
    "## load source data"
   ]
  },
  {
   "cell_type": "markdown",
   "metadata": {},
   "source": [
    "Get just the transfer learning results, then group by network, stimulus, and set size, and compute the mean accuracy for each set size."
   ]
  },
  {
   "cell_type": "code",
   "execution_count": 6,
   "metadata": {},
   "outputs": [],
   "source": [
    "df_all = pd.read_csv(\n",
    "    SOURCE_DATA_ROOT.joinpath('all.csv')\n",
    ")\n",
    "\n",
    "stim_acc_diff_df = pd.read_csv(\n",
    "    SOURCE_DATA_ROOT.joinpath('stim_acc_diff.csv')\n",
    ")\n",
    "\n",
    "net_acc_diff_df = pd.read_csv(\n",
    "    SOURCE_DATA_ROOT.joinpath('net_acc_diff.csv')\n",
    ")\n",
    "\n",
    "df_acc_diff_by_stim = pd.read_csv(\n",
    "    SOURCE_DATA_ROOT.joinpath('acc_diff_by_stim.csv'),\n",
    "    index_col='net_name'\n",
    ")"
   ]
  },
  {
   "cell_type": "markdown",
   "metadata": {},
   "source": [
    "columns will be stimuli, in increasing order of accuracy drop across models"
   ]
  },
  {
   "cell_type": "code",
   "execution_count": 7,
   "metadata": {},
   "outputs": [],
   "source": [
    "# not sure why my sorting isn't working right in the script that generates source data,\n",
    "# but it's clear by eye the effect size is in the right order\n",
    "# so I'm just typing them manually\n",
    "FIG_COLUMNS = ['RVvGV', 'RVvRHGV', '2_v_5']"
   ]
  },
  {
   "cell_type": "markdown",
   "metadata": {},
   "source": [
    "rows will be nets, in decreasing order of accuracy drops across stimuli"
   ]
  },
  {
   "cell_type": "code",
   "execution_count": 8,
   "metadata": {},
   "outputs": [
    {
     "name": "stdout",
     "output_type": "stream",
     "text": [
      "['alexnet']\n"
     ]
    }
   ],
   "source": [
    "FIG_ROWS = net_acc_diff_df['net_name'].values.tolist()\n",
    "print(FIG_ROWS)"
   ]
  },
  {
   "cell_type": "markdown",
   "metadata": {},
   "source": [
    "## plot figure"
   ]
  },
  {
   "cell_type": "code",
   "execution_count": 9,
   "metadata": {},
   "outputs": [],
   "source": [
    "pal = sns.color_palette(\"rocket\", n_colors=6)"
   ]
  },
  {
   "cell_type": "code",
   "execution_count": 10,
   "metadata": {},
   "outputs": [
    {
     "data": {
      "text/plain": [
       "6"
      ]
     },
     "execution_count": 10,
     "metadata": {},
     "output_type": "execute_result"
    }
   ],
   "source": [
    "len(pal)"
   ]
  },
  {
   "cell_type": "code",
   "execution_count": 11,
   "metadata": {},
   "outputs": [],
   "source": [
    "cmaps = {}\n",
    "for net in ('alexnet', 'CORnet_Z', 'VGG16', 'CORnet_S'):\n",
    "    cmaps[net] = {\n",
    "        'transfer': {\n",
    "            'unit_both': pal[3],\n",
    "            'mn_both': pal[2],\n",
    "        },\n",
    "        'initialize': {\n",
    "            'unit_both': pal[5],\n",
    "            'mn_both': pal[4],            \n",
    "        }\n",
    "    }"
   ]
  },
  {
   "cell_type": "code",
   "execution_count": 12,
   "metadata": {},
   "outputs": [],
   "source": [
    "UNIT_COLORS = {\n",
    "    'present': 'violet',\n",
    "    'absent': 'lightgreen',\n",
    "    'both': 'darkgrey'\n",
    "}\n",
    "\n",
    "# default colors used for plotting mean across sampling units in each condition\n",
    "MN_COLORS = {\n",
    "    'present': 'magenta',\n",
    "    'absent': 'lawngreen',\n",
    "    'both': 'black'\n",
    "}\n",
    "\n",
    "\n",
    "def metric_v_set_size_df(df, net_name, method, stimulus, metric, conditions,\n",
    "                         unit_colors=UNIT_COLORS, mn_colors=MN_COLORS,\n",
    "                         ax=None, title=None, save_as=None, figsize=(10, 5),\n",
    "                         set_xlabel=False, set_ylabel=False, set_ylim=True,\n",
    "                         ylim=(0, 1.1), yticks=None, plot_mean=True, add_legend=False, dpi=600):\n",
    "    \"\"\"plot accuracy as a function of visual search task set size\n",
    "    for models trained on a single task or dataset\n",
    "\n",
    "    Accepts a Pandas dataframe and column names that determine what to plot.\n",
    "    Dataframe is produces by searchstims.utils.general.results_csv function.\n",
    "\n",
    "    Parameters\n",
    "    ----------\n",
    "    df : pandas.Dataframe\n",
    "        path to results.gz file saved after measuring accuracy of trained networks\n",
    "        on test set of visual search stimuli\n",
    "    net_name : str\n",
    "        name of neural net architecture. Must be a value in the 'net_name' column\n",
    "        of df.\n",
    "    method : str\n",
    "        method used for training. Must be a value in the 'method' column of df.\n",
    "    stimulus : str\n",
    "        type of visual search stimulus, e.g. 'RVvGV', '2_v_5'. Must be a value in\n",
    "        the 'stimulus' column of df.\n",
    "    metric : str\n",
    "        metric to plot. One of {'acc', 'd_prime'}.\n",
    "    conditions : list, str\n",
    "        conditions to plot. One of {'present', 'absent', 'both'}. Corresponds to\n",
    "        'target_condition' column in df.\n",
    "\n",
    "    Other Parameters\n",
    "    ----------------\n",
    "    unit_colors : dict\n",
    "        mapping of conditions to colors used for plotting 'sampling units', i.e. each trained\n",
    "        network. Default is UNIT_COLORS defined in this module.\n",
    "    mn_colors : dict\n",
    "        mapping of conditions to colors used for plotting mean across 'sampling units'\n",
    "        (i.e., each trained network). Default is MN_COLORS defined in this module.\n",
    "    ax : matplotlib.Axis\n",
    "        axis on which to plot figure. Default is None, in which case a new figure with\n",
    "        a single axis is created for the plot.\n",
    "    title : str\n",
    "        string to use as title of figure. Default is None.\n",
    "    save_as : str\n",
    "        path to directory where figure should be saved. Default is None, in which\n",
    "        case figure is not saved.\n",
    "    figsize : tuple\n",
    "        (width, height) in inches. Default is (10, 5). Only used if ax is None and a new\n",
    "        figure is created.\n",
    "    set_xlabel : bool\n",
    "        if True, set the value of xlabel to \"set size\". Default is False.\n",
    "    set_ylabel : bool\n",
    "        if True, set the value of ylabel to metric. Default is False.\n",
    "    set_ylim : bool\n",
    "        if True, set the y-axis limits to the value of ylim.\n",
    "    ylim : tuple\n",
    "        with two elements, limits for y-axis. Default is (0, 1.1).\n",
    "    plot_mean : bool\n",
    "        if True, find mean accuracy and plot as a separate solid line. Default is True.\n",
    "    add_legend : bool\n",
    "        if True, add legend to axis. Default is False.\n",
    "\n",
    "    Returns\n",
    "    -------\n",
    "    None\n",
    "    \"\"\"\n",
    "    if ax is None:\n",
    "        fig, ax = plt.subplots(dpi=dpi, figsize=figsize)\n",
    "\n",
    "    df = df[(df['net_name'] == net_name)\n",
    "            & (df['method'] == method)\n",
    "            & (df['stimulus'] == stimulus)]\n",
    "    \n",
    "    if not all(\n",
    "            [df['target_condition'].isin([targ_cond]).any() for targ_cond in conditions]\n",
    "    ):\n",
    "        raise ValueError(f'not all target conditions specified were found in dataframe.'\n",
    "                         f'Target conditions specified were: {conditions}')\n",
    "\n",
    "    handles = []\n",
    "    labels = []\n",
    "\n",
    "    set_sizes = None  # because we verify set sizes is the same across conditions\n",
    "    net_nums = df['net_number'].unique()\n",
    "    # get metric across set sizes for each training replicate\n",
    "    # we end up with a list of vectors we can pass to ax.plot,\n",
    "    # so that the 'line' for each training replicate gets plotted\n",
    "    for targ_cond in conditions:\n",
    "        metric_vals = []\n",
    "        for net_num in net_nums:\n",
    "            metric_vals.append(\n",
    "                df[(df['net_number'] == net_num)\n",
    "                   & (df['target_condition'] == targ_cond)][metric].values\n",
    "            )\n",
    "\n",
    "            curr_set_size = df[(df['net_number'] == net_num)\n",
    "                               & (df['target_condition'] == targ_cond)]['set_size'].values\n",
    "            if set_sizes is None:\n",
    "                set_sizes = curr_set_size\n",
    "            else:\n",
    "                if not np.array_equal(set_sizes, curr_set_size):\n",
    "                    raise ValueError(\n",
    "                        f'set size for net number {net_num}, '\n",
    "                        f'target condition {targ_cond},  did not match others'\n",
    "                    )\n",
    "        for row_num, arr_metric in enumerate(metric_vals):\n",
    "            x = np.arange(1, len(set_sizes) + 1) * 2\n",
    "            # just label first row, so only one entry shows up in legend\n",
    "            if row_num == 0:\n",
    "                label = f'training replicate, {method}'\n",
    "            else:\n",
    "                label = None\n",
    "            ax.plot(x, arr_metric, color=unit_colors[targ_cond], linewidth=1,\n",
    "                    linestyle='--', alpha=0.95, label=label)\n",
    "            ax.set_xticks(x)\n",
    "            ax.set_xticklabels(set_sizes)\n",
    "            ax.set_xlim([0, x.max() + 2])\n",
    "\n",
    "        if plot_mean:\n",
    "            mn_metric = np.asarray(metric_vals).mean(axis=0)\n",
    "            if targ_cond == 'both':\n",
    "                mn_metric_label = f'mean, {method}'\n",
    "            else:\n",
    "                mn_metric_label = f'mean {metric}, {targ_cond}, {method}'\n",
    "            labels.append(mn_metric_label)\n",
    "            mn_metric_line, = ax.plot(x, mn_metric,\n",
    "                                      color=mn_colors[targ_cond], linewidth=1.5, \n",
    "                                      alpha=0.65,\n",
    "                                      label=mn_metric_label)\n",
    "            ax.set_xticks(x)\n",
    "            ax.set_xticklabels(set_sizes)\n",
    "            ax.set_xlim([0, x.max() + 2])\n",
    "            handles.append(mn_metric_line)\n",
    "\n",
    "    if title:\n",
    "        ax.set_title(title)\n",
    "    if set_xlabel:\n",
    "        ax.set_xlabel('set size')\n",
    "    if set_ylabel:\n",
    "        ax.set_ylabel(metric)\n",
    "    if yticks is not None:\n",
    "        ax.set_yticks(yticks)\n",
    "    if set_ylim:\n",
    "        ax.set_ylim(ylim)\n",
    "\n",
    "    if add_legend:\n",
    "        ax.legend(handles=handles,\n",
    "                  labels=labels,\n",
    "                  loc='lower left')\n",
    "\n",
    "    if save_as:\n",
    "        plt.savefig(save_as)"
   ]
  },
  {
   "cell_type": "code",
   "execution_count": 13,
   "metadata": {},
   "outputs": [
    {
     "data": {
      "image/png": "[encoded data removed]",
      "text/plain": [
       "<Figure size 826.772x295.276 with 4 Axes>"
      ]
     },
     "metadata": {},
     "output_type": "display_data"
    }
   ],
   "source": [
    "FIGSIZE = tuple(cm_to_inches(size) for size in (7, 2.5))\n",
    "\n",
    "DPI = 300\n",
    "\n",
    "n_rows = len(FIG_ROWS)\n",
    "n_cols = len(FIG_COLUMNS)\n",
    "fig, ax = plt.subplots(n_rows, n_cols, sharey=True, figsize=FIGSIZE, dpi=DPI)\n",
    "ax = ax.reshape(n_rows, n_cols)\n",
    "fig.subplots_adjust(hspace=0.5)\n",
    "\n",
    "LABELSIZE = 6\n",
    "XTICKPAD = 2\n",
    "YTICKPAD = 1\n",
    "\n",
    "for ax_ in ax.ravel():\n",
    "    ax_.xaxis.set_tick_params(pad=XTICKPAD, labelsize=LABELSIZE)\n",
    "    ax_.yaxis.set_tick_params(pad=YTICKPAD, labelsize=LABELSIZE)\n",
    "    \n",
    "\n",
    "STIM_FONTSIZE = 4\n",
    "\n",
    "add_legend = False\n",
    "\n",
    "for row, net_name in enumerate(FIG_ROWS):\n",
    "    df_this_net = df_all[df_all['net_name'] == net_name]\n",
    "\n",
    "    for method in ['transfer', 'initialize']:\n",
    "        for col, stim_name in enumerate(FIG_COLUMNS):\n",
    "                unit_colors = {'both': cmaps[net_name][method]['unit_both']}\n",
    "                mn_colors = {'both': cmaps[net_name][method]['mn_both']}\n",
    "\n",
    "                ax[row, col].set_axisbelow(True)  # so grid is behind\n",
    "                metric_v_set_size_df(df=df_this_net, \n",
    "                                     net_name=net_name,\n",
    "                                     method=method, \n",
    "                                     stimulus=stim_name,\n",
    "                                     metric='accuracy', \n",
    "                                     conditions=['both'],\n",
    "                                     unit_colors=unit_colors,\n",
    "                                     mn_colors=mn_colors,\n",
    "                                     set_ylim=True,\n",
    "                                     ax=ax[row, col],\n",
    "                                     ylim=(0.4, 1.1),\n",
    "                                     yticks=(0.5, 0.6, 0.7, 0.8, 0.9, 1.0),\n",
    "                                     add_legend=add_legend)\n",
    "                \n",
    "\n",
    "                if row == 0:\n",
    "                    title = stim_name.replace('_',' ')\n",
    "                    ax[row, col].set_title(title, \n",
    "                                           fontsize=STIM_FONTSIZE,\n",
    "                                           pad=5)  # pad so we can put image over title without it showing\n",
    "                if col == 0:\n",
    "                    ax[row, col].set_ylabel('accuracy')\n",
    "                    net_name_for_fig = net_name.replace('_', ' ')\n",
    "                    ax[row, col].text(0, 0.15, net_name_for_fig, fontweight='bold', fontsize=8)\n",
    "\n",
    "# add a big axis, hide frame\n",
    "big_ax = fig.add_subplot(111, frameon=False)\n",
    "# hide tick and tick label of the big axis\n",
    "big_ax.tick_params(labelcolor='none', top=False, bottom=False, left=False, right=False)\n",
    "big_ax.grid(False)\n",
    "\n",
    "handles, labels = ax[0, 0].get_legend_handles_labels()\n",
    "LEGEND_FONTSIZE = 4\n",
    "\n",
    "BBOX_TO_ANCHOR = (0.0125, 0.2, 0.8, .075)\n",
    "\n",
    "big_ax.legend(handles, labels, \n",
    "              bbox_to_anchor=BBOX_TO_ANCHOR,\n",
    "              ncol=2, mode=\"expand\", frameon=True,\n",
    "              borderaxespad=0., fontsize=LEGEND_FONTSIZE);\n",
    "\n",
    "big_ax.set_xlabel(\"set size\", labelpad=0.1);\n",
    "\n",
    "for ext in ('svg', 'png'):\n",
    "    fig_path = FIGURES_ROOT.joinpath(\n",
    "        f'acc-v-set-size/acc-v-set-size.{ext}'\n",
    "    )\n",
    "    plt.savefig(fig_path)"
   ]
  }
 ],
 "metadata": {
  "kernelspec": {
   "display_name": "Python 3",
   "language": "python",
   "name": "python3"
  },
  "language_info": {
   "codemirror_mode": {
    "name": "ipython",
    "version": 3
   },
   "file_extension": ".py",
   "mimetype": "text/x-python",
   "name": "python",
   "nbconvert_exporter": "python",
   "pygments_lexer": "ipython3",
   "version": "3.6.9"
  }
 },
 "nbformat": 4,
 "nbformat_minor": 4
}
