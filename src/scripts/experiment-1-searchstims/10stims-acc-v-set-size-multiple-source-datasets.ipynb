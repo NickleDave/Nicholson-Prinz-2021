{
 "cells": [
  {
   "cell_type": "code",
   "execution_count": 1,
   "metadata": {},
   "outputs": [],
   "source": [
    "from pathlib import Path\n",
    "\n",
    "from matplotlib import rcParams\n",
    "rcParams['font.family'] = 'sans-serif'\n",
    "rcParams['font.sans-serif'] = ['Arial']\n",
    "import matplotlib as mpl\n",
    "import matplotlib.pyplot as plt\n",
    "import numpy as np\n",
    "import pandas as pd\n",
    "import pyprojroot\n",
    "import seaborn as sns\n",
    "\n",
    "import searchnets"
   ]
  },
  {
   "cell_type": "code",
   "execution_count": 2,
   "metadata": {},
   "outputs": [],
   "source": [
    "def cm_to_inches(cm):\n",
    "    return cm / 2.54"
   ]
  },
  {
   "cell_type": "code",
   "execution_count": 3,
   "metadata": {},
   "outputs": [],
   "source": [
    "mpl.style.use(['seaborn-darkgrid', 'seaborn-paper'])"
   ]
  },
  {
   "cell_type": "markdown",
   "metadata": {},
   "source": [
    "paths"
   ]
  },
  {
   "cell_type": "code",
   "execution_count": 4,
   "metadata": {},
   "outputs": [],
   "source": [
    "SOURCE_DATA_ROOT = pyprojroot.here('results/searchstims/source_data/')\n",
    "\n",
    "FIGURES_ROOT = pyprojroot.here('docs/paper/figures/experiment-1/searchstims-10stims-multiple-source-datasets')"
   ]
  },
  {
   "cell_type": "markdown",
   "metadata": {},
   "source": [
    "constants"
   ]
  },
  {
   "cell_type": "code",
   "execution_count": 5,
   "metadata": {},
   "outputs": [],
   "source": [
    "LEARNING_RATE = 1e-3\n",
    "\n",
    "NET_NAMES = [\n",
    "    'alexnet',\n",
    "    'VGG16',\n",
    "]\n",
    "\n",
    "METHODS = [\n",
    "    'initialize',\n",
    "    'transfer'\n",
    "]\n",
    "\n",
    "MODES = [\n",
    "    'classify',\n",
    "]"
   ]
  },
  {
   "cell_type": "code",
   "execution_count": 6,
   "metadata": {},
   "outputs": [],
   "source": [
    "sns.set_palette(\"Set2\")"
   ]
  },
  {
   "cell_type": "markdown",
   "metadata": {},
   "source": [
    "## load / tidy source data"
   ]
  },
  {
   "cell_type": "code",
   "execution_count": 7,
   "metadata": {},
   "outputs": [],
   "source": [
    "df_all = []\n",
    "\n",
    "for source_data_dir, pretrained in zip(\n",
    "    ['10stims', '10stims_random_weights', '10stims_SIN', '10stims_Clipart', '10stims_searchstims_classify'],\n",
    "    ['ImageNet', 'random weights', 'Stylized ImageNet', 'DomainNet, Clipart domain', 'Searchstims (classify)']\n",
    "):\n",
    "\n",
    "    df = pd.read_csv(SOURCE_DATA_ROOT / source_data_dir / 'all.csv')\n",
    "\n",
    "    df = df[df.net_name.isin(NET_NAMES)]\n",
    "\n",
    "    if source_data_dir == '10stims':\n",
    "        df['dataset'] = np.nan\n",
    "        df.loc[df['method'] == 'transfer', 'dataset'] = pretrained\n",
    "        df.loc[df['method'] == 'initialize', 'dataset'] = 'Searchstims'\n",
    "    else:\n",
    "        df['dataset'] = pretrained\n",
    "\n",
    "    df['method, dataset'] = df['method'] + ', ' + df['dataset']\n",
    "\n",
    "    df_all.append(df)\n",
    "\n",
    "df_all = pd.concat(df_all)\n",
    "\n",
    "df_all = df_all[df_all.target_condition == 'both']\n",
    "\n",
    "# map set sizes to consecutive integers\n",
    "set_size_uniq = df_all.set_size.unique()\n",
    "set_size_map = dict(zip(set_size_uniq, range(len(set_size_uniq))))\n",
    "df_all['set_size_int'] = df_all.set_size.map(set_size_map)"
   ]
  },
  {
   "cell_type": "markdown",
   "metadata": {},
   "source": [
    "#### drop rows from ('initialize, Searchstims') training replicates that failed to converge\n",
    "to avoid cluttering figure with weird looking mean"
   ]
  },
  {
   "cell_type": "code",
   "execution_count": 8,
   "metadata": {},
   "outputs": [
    {
     "name": "stdout",
     "output_type": "stream",
     "text": [
      "`df_all` length before dropping rows: 3840\n",
      "dropping alexnet, replicate 3, 40 rows\n",
      "dropping VGG16, replicate 1, 40 rows\n",
      "dropping VGG16, replicate 2, 40 rows\n",
      "dropping VGG16, replicate 5, 40 rows\n",
      "dropping VGG16, replicate 7, 40 rows\n",
      "`df_all` length after dropping rows: 3480\n"
     ]
    }
   ],
   "source": [
    "print(f'`df_all` length before dropping rows: {len(df_all)}')\n",
    "\n",
    "for net_name in df_all.net_name.unique():\n",
    "    for net_number in range(1, 9):\n",
    "        this_df = df_all[\n",
    "            (df_all.method == 'initialize') & \n",
    "            (df_all.dataset == 'Searchstims') & \n",
    "            (df_all.net_name == net_name) &\n",
    "            (df_all.net_number == net_number)\n",
    "        ]\n",
    "        if (this_df.accuracy < 0.6).any():\n",
    "            print(f'dropping {net_name}, replicate {net_number}, {len(this_df)} rows')\n",
    "            df_all = df_all.drop(index=this_df.index)\n",
    "\n",
    "print(f'`df_all` length after dropping rows: {len(df_all)}')"
   ]
  },
  {
   "cell_type": "code",
   "execution_count": null,
   "metadata": {},
   "outputs": [],
   "source": [
    "if '3stims' in str(FIGURES_ROOT):\n",
    "    FIGSIZE = tuple(cm_to_inches(size) for size in (7, 5))\n",
    "elif '10stims' in str(FIGURES_ROOT):\n",
    "    FIGSIZE = tuple(cm_to_inches(size) for size in (17.4, 5))\n",
    "\n",
    "DPI = 300\n",
    "\n",
    "FIG_ROWS = df_all.net_name.unique()\n",
    "FIG_COLUMNS = df_all.stimulus.unique()\n",
    "\n",
    "n_rows = len(FIG_ROWS)\n",
    "n_cols = len(FIG_COLUMNS)\n",
    "fig, ax_arr = plt.subplots(n_rows, n_cols, sharey=True, figsize=FIGSIZE, dpi=DPI)\n",
    "fig.subplots_adjust(hspace=0.5)\n",
    "\n",
    "LABELSIZE = 6\n",
    "XTICKPAD = 2\n",
    "YTICKPAD = 1\n",
    "\n",
    "for ax_ in ax_arr.ravel():\n",
    "    ax_.xaxis.set_tick_params(pad=XTICKPAD, labelsize=LABELSIZE)\n",
    "    ax_.yaxis.set_tick_params(pad=YTICKPAD, labelsize=LABELSIZE)\n",
    "    \n",
    "\n",
    "STIM_FONTSIZE = 4\n",
    "\n",
    "add_legend = False\n",
    "\n",
    "for row, net_name in enumerate(FIG_ROWS):\n",
    "    df_this_net = df_all[df_all['net_name'] == net_name]\n",
    "\n",
    "    for col, stim_name in enumerate(FIG_COLUMNS):\n",
    "        df_this_net_this_stim = df_this_net[df_this_net.stimulus == stim_name]\n",
    "\n",
    "        ax = ax_arr[row, col]\n",
    "        ax.set_axisbelow(True)  # so grid is behind\n",
    "\n",
    "        if row == 0 and col == 0:\n",
    "            legend = True\n",
    "        else:\n",
    "            legend = False\n",
    "\n",
    "        sns.lineplot(\n",
    "            x='set_size_int',\n",
    "            y='accuracy',\n",
    "            data=df_this_net_this_stim, \n",
    "            hue='method, dataset', \n",
    "            style='method',\n",
    "            ax=ax,\n",
    "            legend=legend\n",
    "        )\n",
    "        ax.set_ylabel('')\n",
    "        ax.set_xlabel('')\n",
    "        ax.set_xticks(range(len(set_size_uniq)))\n",
    "        ax.set_xticklabels(set_size_uniq)\n",
    "\n",
    "        if row == 0:\n",
    "            title = stim_name.replace('_',' ')\n",
    "            ax.set_title(title, \n",
    "                         fontsize=STIM_FONTSIZE,\n",
    "                         pad=5)  # pad so we can put image over title without it showing\n",
    "        if col == 0:\n",
    "            ax.set_ylabel('accuracy')\n",
    "            net_name_for_fig = net_name.replace('_', ' ')\n",
    "            ax.text(0, 0.15, net_name_for_fig, fontweight='bold', fontsize=8)\n",
    "\n",
    "# add a big axis, hide frame\n",
    "big_ax = fig.add_subplot(111, frameon=False)\n",
    "# hide tick and tick label of the big axis\n",
    "big_ax.tick_params(labelcolor='none', top=False, bottom=False, left=False, right=False)\n",
    "big_ax.grid(False)\n",
    "\n",
    "handles, labels = ax_arr[0, 0].get_legend_handles_labels()\n",
    "ax_arr[0, 0].get_legend().remove()\n",
    "\n",
    "LEGEND_FONTSIZE = 4\n",
    "\n",
    "if '3stims' in str(FIGURES_ROOT):\n",
    "    BBOX_TO_ANCHOR = (1.525, 0.3)\n",
    "elif '10stims' in str(FIGURES_ROOT):\n",
    "    BBOX_TO_ANCHOR = (1.225, 0.6)\n",
    "\n",
    "big_ax.legend(handles,\n",
    "              labels, \n",
    "              bbox_to_anchor=BBOX_TO_ANCHOR,\n",
    "              frameon=True,\n",
    "              borderaxespad=0., \n",
    "              fontsize=LEGEND_FONTSIZE\n",
    "             );\n",
    "\n",
    "big_ax.set_xlabel(\"set size\", labelpad=0.1);\n",
    "\n",
    "for ext in ('svg', 'png'):\n",
    "    fig_path = FIGURES_ROOT.joinpath(\n",
    "        f'acc-v-set-size/acc-v-set-size.{ext}'\n",
    "    )\n",
    "    plt.savefig(fig_path,\n",
    "                bbox_inches=\"tight\")"
   ]
  },
  {
   "cell_type": "code",
   "execution_count": null,
   "metadata": {},
   "outputs": [],
   "source": [
    "for h, l in zip(handles, labels):\n",
    "    print(l, h.get_color())"
   ]
  }
 ],
 "metadata": {
  "kernelspec": {
   "display_name": "Python 3 (ipykernel)",
   "language": "python",
   "name": "python3"
  },
  "language_info": {
   "codemirror_mode": {
    "name": "ipython",
    "version": 3
   },
   "file_extension": ".py",
   "mimetype": "text/x-python",
   "name": "python",
   "nbconvert_exporter": "python",
   "pygments_lexer": "ipython3",
   "version": "3.7.4"
  }
 },
 "nbformat": 4,
 "nbformat_minor": 4
}
